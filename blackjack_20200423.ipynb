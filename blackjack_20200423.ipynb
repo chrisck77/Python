{
 "cells": [
  {
   "cell_type": "code",
   "execution_count": 1,
   "metadata": {},
   "outputs": [],
   "source": [
    "import numpy as np\n",
    "import pandas as pd\n",
    "import random as rd"
   ]
  },
  {
   "cell_type": "code",
   "execution_count": 4,
   "metadata": {},
   "outputs": [
    {
     "name": "stdout",
     "output_type": "stream",
     "text": [
      "[ 5  2  2  7  6  6  3  3  3 10  5  9  6]\n"
     ]
    }
   ],
   "source": [
    "hand = np.random.randint(low=2, high = 11, size =13)\n",
    "print(hand)"
   ]
  },
  {
   "cell_type": "code",
   "execution_count": 40,
   "metadata": {},
   "outputs": [
    {
     "name": "stdout",
     "output_type": "stream",
     "text": [
      "[2, 3, 4, 5, 6, 7, 8, 9, 10, 10, 10, 10, 11] \n",
      " [0, 0, 0, 0, 0, 0, 0, 0, 0, 0, 0, 0, 1]\n"
     ]
    }
   ],
   "source": [
    "dealer_card_val = [2,3,4,5,6,7,8,9,10, 10, 10, 10, 11]\n",
    "dealer_aces = [0,0,0,0,0,0,0,0,0, 0,0,0,1]\n",
    "print(dealer_card_val, \"\\n\", dealer_aces)"
   ]
  },
  {
   "cell_type": "code",
   "execution_count": 17,
   "metadata": {},
   "outputs": [
    {
     "data": {
      "text/plain": [
       "9"
      ]
     },
     "execution_count": 17,
     "metadata": {},
     "output_type": "execute_result"
    }
   ],
   "source": [
    "rd.choice(dealer_card_val)"
   ]
  },
  {
   "cell_type": "code",
   "execution_count": 46,
   "metadata": {},
   "outputs": [
    {
     "name": "stdout",
     "output_type": "stream",
     "text": [
      "[ 2  3  4  5  6  7  8  9 10 10 10 10 11]\n"
     ]
    }
   ],
   "source": [
    "dealer_hand_running_total = np.array(dealer_card_val)\n",
    "print (dealer_hand_running_total)"
   ]
  },
  {
   "cell_type": "code",
   "execution_count": 42,
   "metadata": {},
   "outputs": [
    {
     "data": {
      "text/plain": [
       "array([10, 10, 10,  2, 11,  4,  8,  4, 10,  6, 10,  7, 11])"
      ]
     },
     "execution_count": 42,
     "metadata": {},
     "output_type": "execute_result"
    }
   ],
   "source": [
    "np.random.choice(dealer_card_val,13)"
   ]
  },
  {
   "cell_type": "code",
   "execution_count": 48,
   "metadata": {},
   "outputs": [
    {
     "name": "stdout",
     "output_type": "stream",
     "text": [
      "[12 10 14 12 11 16 16 14 19 20 20 14 21]\n"
     ]
    }
   ],
   "source": [
    "round_2_dealer_hand = dealer_hand_running_total + np.random.choice(dealer_card_val,13)\n",
    "print(round_2_dealer_hand)"
   ]
  },
  {
   "cell_type": "code",
   "execution_count": 54,
   "metadata": {},
   "outputs": [
    {
     "data": {
      "text/plain": [
       "array([ 2,  3,  4,  5,  6,  7,  8,  9, 10, 10, 10, 10, 11])"
      ]
     },
     "execution_count": 54,
     "metadata": {},
     "output_type": "execute_result"
    }
   ],
   "source": [
    "dealer_hand_running_total"
   ]
  },
  {
   "cell_type": "code",
   "execution_count": 55,
   "metadata": {},
   "outputs": [
    {
     "data": {
      "text/plain": [
       "array([12, 10, 14, 12, 11, 16, 16, 14, 19, 20, 20, 14, 21])"
      ]
     },
     "execution_count": 55,
     "metadata": {},
     "output_type": "execute_result"
    }
   ],
   "source": [
    "round_2_dealer_hand"
   ]
  },
  {
   "cell_type": "code",
   "execution_count": 85,
   "metadata": {},
   "outputs": [
    {
     "name": "stdout",
     "output_type": "stream",
     "text": [
      "[18. 20. 25. 22. 21. 22. 18. 24. 19. 20. 20. 21. 21.]\n"
     ]
    }
   ],
   "source": [
    "round_3_dehand = np.zeros(13)\n",
    "\n",
    "for i in range(13):\n",
    "    if round_2_dealer_hand[i] >= 17:\n",
    "        round_3_dehand[i] = round_2_dealer_hand[i]\n",
    "    else:\n",
    "        round_3_dehand[i] = round_2_dealer_hand[i] + np.random.choice(dealer_card_val,1)\n",
    "print (round_3_dehand)\n"
   ]
  },
  {
   "cell_type": "code",
   "execution_count": null,
   "metadata": {},
   "outputs": [],
   "source": []
  },
  {
   "cell_type": "code",
   "execution_count": 82,
   "metadata": {},
   "outputs": [
    {
     "name": "stdout",
     "output_type": "stream",
     "text": [
      "a\t dealer_aces\t dealer_card_val\t dealer_hand_running_total\t hand\t i\t np\t pd\t rd\t \n",
      "round_2_dealer_hand\t round_3_dehand\t \n"
     ]
    }
   ],
   "source": [
    "who"
   ]
  },
  {
   "cell_type": "code",
   "execution_count": 86,
   "metadata": {},
   "outputs": [
    {
     "data": {
      "text/plain": [
       "numpy.ndarray"
      ]
     },
     "execution_count": 86,
     "metadata": {},
     "output_type": "execute_result"
    }
   ],
   "source": [
    "type (dealer_hand_running_total)"
   ]
  },
  {
   "cell_type": "code",
   "execution_count": 113,
   "metadata": {},
   "outputs": [
    {
     "name": "stdout",
     "output_type": "stream",
     "text": [
      "[18 26 21 20 18 17 24 17 22 18 20 20 18]\n"
     ]
    }
   ],
   "source": [
    "dealer_hand_running_total =np.zeros(13) \n",
    "dealer_hand_running_total = np.array(dealer_card_val)#initial card\n",
    "dealer_hand_running_total = np.array(dealer_card_val) + np.random.choice(dealer_card_val,13)#2 cards\n",
    "\n",
    "dealer_hand_running_total = np.array([12, 13,  7, 22,  8, 17, 14, 17, 22, 18, 20, 20, 16])\n",
    "\n",
    "for i in range(13): #chagning the aces to 1 if two aces\n",
    "    if dealer_hand_running_total[i] == 22:\n",
    "        dealer_hand_running_total[i] = 12\n",
    "\n",
    "twist_1 = 1 #set flag for looping for new cards if 1 card is below 17\n",
    "\n",
    "while twist_1 == 1:\n",
    "    twist_1 =0\n",
    "    for i in range(13):\n",
    "        if dealer_hand_running_total[i] < 17:\n",
    "            dealer_hand_running_total[i] = dealer_hand_running_total[i] + np.random.choice(dealer_card_val,1)\n",
    "            if dealer_hand_running_total[i] <17:\n",
    "                twist_1 = 1\n",
    "\n",
    "\n",
    "print(dealer_hand_running_total)"
   ]
  },
  {
   "cell_type": "code",
   "execution_count": 99,
   "metadata": {},
   "outputs": [],
   "source": [
    "cheese =np.array ([12, 1, 7, 15, 8, 17])"
   ]
  },
  {
   "cell_type": "code",
   "execution_count": 100,
   "metadata": {},
   "outputs": [
    {
     "data": {
      "text/plain": [
       "array([12,  1,  7, 15,  8, 17])"
      ]
     },
     "execution_count": 100,
     "metadata": {},
     "output_type": "execute_result"
    }
   ],
   "source": [
    "cheese"
   ]
  },
  {
   "cell_type": "code",
   "execution_count": null,
   "metadata": {},
   "outputs": [],
   "source": [
    "dealer_hand_running_total_2 = 0 \n",
    "dealer_hand_running_total_2 = np.random.choice(dealer_card_val)#2 cards\n",
    "\n",
    "dealer_hand_running_total = np.array([12, 13,  7, 22,  8, 17, 14, 17, 22, 18, 20, 20, 16])\n",
    "\n",
    "for i in range(13): #chagning the aces to 1 if two aces\n",
    "    if dealer_hand_running_total[i] == 22:\n",
    "        dealer_hand_running_total[i] = 12\n",
    "\n",
    "twist_1 = 1 #set flag for looping for new cards if 1 card is below 17\n",
    "\n",
    "while twist_1 == 1:\n",
    "    twist_1 =0\n",
    "    for i in range(13):\n",
    "        if dealer_hand_running_total[i] < 17:\n",
    "            dealer_hand_running_total[i] = dealer_hand_running_total[i] + np.random.choice(dealer_card_val,1)\n",
    "            if dealer_hand_running_total[i] <17:\n",
    "                twist_1 = 1\n",
    "\n",
    "\n",
    "print(dealer_hand_running_total)"
   ]
  },
  {
   "cell_type": "code",
   "execution_count": 276,
   "metadata": {},
   "outputs": [
    {
     "name": "stdout",
     "output_type": "stream",
     "text": [
      "[[   2.  115.  133.  127.  117.  106.  402. 1000.]\n",
      " [   3.  124.  119.  123.  105.  100.  429. 1000.]\n",
      " [   4.  141.  117.  121.  108.   91.  422. 1000.]\n",
      " [   5.  117.  127.   98.  116.   94.  448. 1000.]\n",
      " [   6.  135.   85.  119.   92.   90.  479. 1000.]\n",
      " [   7.  356.  126.   91.   58.   66.  303. 1000.]\n",
      " [   8.  124.  395.  119.   51.   58.  253. 1000.]\n",
      " [   9.  113.  118.  348.  121.   60.  240. 1000.]\n",
      " [  10.   91.  111.  117.  356.   92.  233. 1000.]\n",
      " [  11.  126.  145.  124.  112.  357.  136. 1000.]]\n"
     ]
    }
   ],
   "source": [
    "dealer_card_val_poss = [2,3,4,5,6,7,8,9,10, 10, 10, 10, 11]\n",
    "dealer_card_val_poss_1_ten = [2,3,4,5,6,7,8,9,10, 11]\n",
    "\n",
    "num_card = {}\n",
    "\n",
    "for x in range(2,12):\n",
    "    if x == 10:\n",
    "        num_card[\"card{0}\".format(x)]=16\n",
    "    else:\n",
    "        num_card[\"card{0}\".format(x)]=4\n",
    "\n",
    "\n",
    "for proba_cards in range(2,12):\n",
    "    if proba_cards ==10:\n",
    "        proba_cards.append(4/52)\n",
    "    else:\n",
    "        proba_cards.append(1/52)\n",
    "        \n",
    "proba_cards = [two/cards_left, thr/cards_left, fou/cards_left, fiv/13, six/13, sev/13, eig/13, nin/13, ten/13, ace/13 ]\n",
    "\n",
    "def deal_likely_hand(dealer_card_val_2):\n",
    "    aces = 0\n",
    "    aces_as_1 =0\n",
    "    \n",
    "    if dealer_card_val_2 == 11:\n",
    "        aces +=1\n",
    "    #print(dealer_card_val_2)\n",
    "\n",
    "    new_card = np.random.choice(dealer_card_val_poss)\n",
    "    if new_card == 11:\n",
    "        aces +=1\n",
    "\n",
    "    if aces == 2:\n",
    "        dealer_hand_running_total_2 =12\n",
    "        aces_as_1 = 1\n",
    "    else:\n",
    "        dealer_hand_running_total_2 = dealer_card_val_2 + new_card  #2 cards\n",
    "\n",
    "    #print(new_card, dealer_hand_running_total_2)\n",
    "\n",
    "    twist_1 =1 \n",
    "    while twist_1 == 1:\n",
    "        twist_1 = 0\n",
    "        if dealer_hand_running_total_2 < 17:\n",
    "                dealer_hand_running_total_2 = dealer_hand_running_total_2 + np.random.choice(dealer_card_val_poss)\n",
    "                #print(dealer_hand_running_total_2)            \n",
    "                if dealer_hand_running_total_2 <17:\n",
    "                    twist_1 = 1\n",
    "                if dealer_hand_running_total_2 > 21 and aces - aces_as_1 > 0:\n",
    "                    dealer_hand_running_total_2 = dealer_hand_running_total_2 - 10\n",
    "                    aces_as_1 += 1\n",
    "                    if dealer_hand_running_total_2 <17:\n",
    "                        twist_1 = 1\n",
    "\n",
    "    #print(aces)\n",
    "    return dealer_hand_running_total_2\n",
    "\n",
    "n_sims = 1000\n",
    "\n",
    "#dealer_card_val_2 = np.random.choice(dealer_card_val_poss)\n",
    "results_per = np.zeros((10,8))\n",
    "for u in range(10):\n",
    "    results_per[u,0] = dealer_card_val_poss_1_ten[u] #fill the first column with the possible 1st card values \n",
    "#for dealer_card_val_2 in dealer_card_val_poss_1_ten:\n",
    "    #print(dealer_card_val_poss_1_ten[u])\n",
    "    bust = 0\n",
    "    s17s = 0\n",
    "    s18s = 0\n",
    "    s19s = 0\n",
    "    s20s = 0\n",
    "    s21s = 0\n",
    "    for p in range (n_sims):    \n",
    "        result_deal = deal_likely_hand(dealer_card_val_poss_1_ten[u])\n",
    "        if result_deal >21:\n",
    "            bust += 1\n",
    "        elif result_deal == 17:\n",
    "            s17s +=1\n",
    "        elif result_deal == 18:\n",
    "            s18s +=1\n",
    "        elif result_deal == 19:\n",
    "            s19s +=1\n",
    "        elif result_deal == 20:\n",
    "            s20s +=1\n",
    "        elif result_deal == 21:\n",
    "            s21s +=1\n",
    "    results_per[u,1] = s17s\n",
    "    results_per[u,2] = s18s\n",
    "    results_per[u,3] = s19s\n",
    "    results_per[u,4] = s20s\n",
    "    results_per[u,5] = s21s\n",
    "    results_per[u,6] = bust   \n",
    "    results_per[u,7] = s17s + s18s + s19s + s20s + s21s + bust\n",
    "    #print(\"busted \", bust/n_sims *100, \"%\") / #print(\"17s \", s17s/n_sims *100, \"%\") #print(\"18s \", s18s/n_sims *100, \"%\")\n",
    "    #print(\"19s \", s19s/n_sims *100, \"%\") / print(\"20s \", s20s/n_sims *100, \"%\")/ print(\"21s \", s21s/n_sims *100, \"%\")\n",
    "    \n",
    "print (results_per)\n",
    "    "
   ]
  },
  {
   "cell_type": "code",
   "execution_count": 5,
   "metadata": {},
   "outputs": [],
   "source": [
    "#results_per_2 = ([(   2,  115,  133,  127,  117,  106,  402, 1000),\n",
    " (   3,  124,  119,  123,  105,  100,  429, 1000),\n",
    " (   4,  141,  117,  121,  108,   91,  422, 1000),\n",
    " (   5,  117,  127,   98,  116,   94,  448, 1000),\n",
    " (   6,  135,   85,  119,   92,   90,  479, 1000),\n",
    " (   7,  356,  126,   91,   58,   66,  303, 1000),\n",
    " (   8,  124,  395,  119,   51,   58,  253, 1000),\n",
    " (   9,  113,  118,  348,  121,   60,  240, 1000),\n",
    " (  10,   91,  111,  117,  356,   92,  233, 1000),\n",
    " (  11,  126,  145,  124,  112,  357,  136, 1000)])"
   ]
  },
  {
   "cell_type": "code",
   "execution_count": 5,
   "metadata": {},
   "outputs": [],
   "source": [
    "#results_per_2"
   ]
  },
  {
   "cell_type": "code",
   "execution_count": 289,
   "metadata": {},
   "outputs": [
    {
     "name": "stdout",
     "output_type": "stream",
     "text": [
      "529.0\n",
      "yes\n"
     ]
    }
   ],
   "source": [
    "player_total = 19\n",
    "dealer_card_val_2 = 9\n",
    "mat_pos_deal = dealer_card_val_2 - 2\n",
    "\n",
    "#result_deal = deal_likely_hand(dealer_card_val_2\n",
    "\n",
    "if player_total <18: #always twist as dealer is less than 50% likely to bust and hence will have 17-21 beating player on 17 or less\n",
    "    twist = \"yes\"\n",
    "\n",
    "if player_total == 18: #dealer wins with 18,19,20,21 (posn 2,3,4,5) or 1- bust, 17 posn 0,6\n",
    "    if results_per[mat_pos_deal,1] + results_per[mat_pos_deal,6] < 500:\n",
    "        twist =\"yes\"\n",
    "    else:\n",
    "        twist = \"no\"\n",
    "        \n",
    "if player_total == 19: #dealer wins with 19,20,21 (posn 3,4,5)\n",
    "    if results_per[mat_pos_deal,3] + results_per[mat_pos_deal,4] + results_per[mat_pos_deal,5] >= 500:\n",
    "        twist =\"yes\" \n",
    "    else:\n",
    "        twist = \"no\"\n",
    "\n",
    "if player_total == 20: #dealer wins with 20,21 (posn 3,4,5)\n",
    "    if results_per[mat_pos_deal,4] + results_per[mat_pos_deal,5] >= 500:\n",
    "        twist =\"yes\"\n",
    "    else:\n",
    "        twist  \"no\"\n",
    "\n",
    "if player_total == 21: #dealer wins with 21 (posn 4,5)\n",
    "    twist = \"no\"\n",
    "\n",
    "#dealer_card_val_2 = np.random.choice(dealer_card_val_poss)\n",
    "\n",
    "#print(result_deal)\n",
    "print (twist)\n",
    "#print (player_total)"
   ]
  },
  {
   "cell_type": "code",
   "execution_count": null,
   "metadata": {},
   "outputs": [],
   "source": []
  },
  {
   "cell_type": "code",
   "execution_count": null,
   "metadata": {},
   "outputs": [],
   "source": []
  },
  {
   "cell_type": "code",
   "execution_count": 253,
   "metadata": {},
   "outputs": [],
   "source": [
    "a = np.zeros((10,6))"
   ]
  },
  {
   "cell_type": "code",
   "execution_count": 258,
   "metadata": {},
   "outputs": [
    {
     "name": "stdout",
     "output_type": "stream",
     "text": [
      "[[0. 0. 0. 6. 0. 0.]\n",
      " [0. 0. 0. 0. 0. 0.]\n",
      " [0. 0. 0. 6. 0. 0.]\n",
      " [0. 0. 0. 0. 0. 0.]\n",
      " [0. 0. 0. 0. 0. 0.]\n",
      " [0. 0. 0. 0. 0. 0.]\n",
      " [0. 0. 0. 0. 0. 0.]\n",
      " [0. 0. 0. 0. 0. 0.]\n",
      " [0. 0. 0. 0. 0. 0.]\n",
      " [0. 0. 0. 0. 0. 0.]]\n"
     ]
    }
   ],
   "source": [
    "a[2,3] = 6\n",
    "print(a)"
   ]
  },
  {
   "cell_type": "code",
   "execution_count": 263,
   "metadata": {},
   "outputs": [],
   "source": [
    "results_per = np.zeros((10,6))\n",
    "for u in range(10):\n",
    "    results_per[u,0] = dealer_card_val_poss_1_ten[u]"
   ]
  },
  {
   "cell_type": "code",
   "execution_count": 264,
   "metadata": {},
   "outputs": [
    {
     "data": {
      "text/plain": [
       "array([[ 2.,  0.,  0.,  0.,  0.,  0.],\n",
       "       [ 3.,  0.,  0.,  0.,  0.,  0.],\n",
       "       [ 4.,  0.,  0.,  0.,  0.,  0.],\n",
       "       [ 5.,  0.,  0.,  0.,  0.,  0.],\n",
       "       [ 6.,  0.,  0.,  0.,  0.,  0.],\n",
       "       [ 7.,  0.,  0.,  0.,  0.,  0.],\n",
       "       [ 8.,  0.,  0.,  0.,  0.,  0.],\n",
       "       [ 9.,  0.,  0.,  0.,  0.,  0.],\n",
       "       [10.,  0.,  0.,  0.,  0.,  0.],\n",
       "       [11.,  0.,  0.,  0.,  0.,  0.]])"
      ]
     },
     "execution_count": 264,
     "metadata": {},
     "output_type": "execute_result"
    }
   ],
   "source": [
    "results_per"
   ]
  },
  {
   "cell_type": "code",
   "execution_count": 3,
   "metadata": {},
   "outputs": [
    {
     "data": {
      "text/plain": [
       "array([[1, 2, 3],\n",
       "       [4, 5, 6]])"
      ]
     },
     "execution_count": 3,
     "metadata": {},
     "output_type": "execute_result"
    }
   ],
   "source": [
    "np.array([(1,2,3),(4,5,6)])"
   ]
  },
  {
   "cell_type": "code",
   "execution_count": 7,
   "metadata": {},
   "outputs": [],
   "source": [
    "results_per_2 = np.array([(   2,  115,  133,  127,  117,  106,  402, 1000),\n",
    " (   3,  124,  119,  123,  105,  100,  429, 1000),\n",
    " (   4,  141,  117,  121,  108,   91,  422, 1000),\n",
    " (   5,  117,  127,   98,  116,   94,  448, 1000),\n",
    " (   6,  135,   85,  119,   92,   90,  479, 1000),\n",
    " (   7,  356,  126,   91,   58,   66,  303, 1000),\n",
    " (   8,  124,  395,  119,   51,   58,  253, 1000),\n",
    " (   9,  113,  118,  348,  121,   60,  240, 1000),\n",
    " (  10,   91,  111,  117,  356,   92,  233, 1000),\n",
    " (  11,  126,  145,  124,  112,  357,  136, 1000)])"
   ]
  },
  {
   "cell_type": "code",
   "execution_count": 8,
   "metadata": {},
   "outputs": [
    {
     "data": {
      "text/plain": [
       "array([[   2,  115,  133,  127,  117,  106,  402, 1000],\n",
       "       [   3,  124,  119,  123,  105,  100,  429, 1000],\n",
       "       [   4,  141,  117,  121,  108,   91,  422, 1000],\n",
       "       [   5,  117,  127,   98,  116,   94,  448, 1000],\n",
       "       [   6,  135,   85,  119,   92,   90,  479, 1000],\n",
       "       [   7,  356,  126,   91,   58,   66,  303, 1000],\n",
       "       [   8,  124,  395,  119,   51,   58,  253, 1000],\n",
       "       [   9,  113,  118,  348,  121,   60,  240, 1000],\n",
       "       [  10,   91,  111,  117,  356,   92,  233, 1000],\n",
       "       [  11,  126,  145,  124,  112,  357,  136, 1000]])"
      ]
     },
     "execution_count": 8,
     "metadata": {},
     "output_type": "execute_result"
    }
   ],
   "source": [
    "results_per_2"
   ]
  },
  {
   "cell_type": "code",
   "execution_count": 4,
   "metadata": {},
   "outputs": [
    {
     "data": {
      "text/plain": [
       "[0.07692307692307693, 0.07692307692307693]"
      ]
     },
     "execution_count": 4,
     "metadata": {},
     "output_type": "execute_result"
    }
   ],
   "source": [
    "[1/13, 1/13]"
   ]
  },
  {
   "cell_type": "code",
   "execution_count": null,
   "metadata": {},
   "outputs": [],
   "source": []
  },
  {
   "cell_type": "code",
   "execution_count": 22,
   "metadata": {},
   "outputs": [
    {
     "data": {
      "text/plain": [
       "{'card2': 4,\n",
       " 'card3': 4,\n",
       " 'card4': 4,\n",
       " 'card5': 4,\n",
       " 'card6': 4,\n",
       " 'card7': 4,\n",
       " 'card8': 4,\n",
       " 'card9': 4,\n",
       " 'card10': 16,\n",
       " 'card11': 4}"
      ]
     },
     "execution_count": 22,
     "metadata": {},
     "output_type": "execute_result"
    }
   ],
   "source": [
    "num_card = {}\n",
    "for x in range(2,12):\n",
    "    if x == 10:\n",
    "        num_card[\"card{0}\".format(x)]=16\n",
    "    else:\n",
    "        num_card[\"card{0}\".format(x)]=4\n",
    "num_card"
   ]
  },
  {
   "cell_type": "code",
   "execution_count": 25,
   "metadata": {},
   "outputs": [
    {
     "data": {
      "text/plain": [
       "{'card2': 4,\n",
       " 'card3': 4,\n",
       " 'card4': 4,\n",
       " 'card5': 4,\n",
       " 'card6': 4,\n",
       " 'card7': 4,\n",
       " 'card8': 3,\n",
       " 'card9': 4,\n",
       " 'card10': 16,\n",
       " 'card11': 4}"
      ]
     },
     "execution_count": 25,
     "metadata": {},
     "output_type": "execute_result"
    }
   ],
   "source": [
    "new_card1 = 8\n",
    "num_card[\"card{0}\".format(new_card1)] = num_card[\"card{0}\".format(new_card1)] -1\n",
    "num_card"
   ]
  },
  {
   "cell_type": "code",
   "execution_count": 28,
   "metadata": {},
   "outputs": [],
   "source": [
    "kl = [5,5,5]"
   ]
  },
  {
   "cell_type": "code",
   "execution_count": 29,
   "metadata": {},
   "outputs": [
    {
     "data": {
      "text/plain": [
       "[5, 5, 5]"
      ]
     },
     "execution_count": 29,
     "metadata": {},
     "output_type": "execute_result"
    }
   ],
   "source": [
    "kl"
   ]
  },
  {
   "cell_type": "code",
   "execution_count": 36,
   "metadata": {},
   "outputs": [],
   "source": [
    "k2 =[]\n",
    "for x in range(1,12):\n",
    "    k2.append(4/52)"
   ]
  },
  {
   "cell_type": "code",
   "execution_count": 37,
   "metadata": {},
   "outputs": [
    {
     "data": {
      "text/plain": [
       "[0.07692307692307693,\n",
       " 0.07692307692307693,\n",
       " 0.07692307692307693,\n",
       " 0.07692307692307693,\n",
       " 0.07692307692307693,\n",
       " 0.07692307692307693,\n",
       " 0.07692307692307693,\n",
       " 0.07692307692307693,\n",
       " 0.07692307692307693,\n",
       " 0.07692307692307693,\n",
       " 0.07692307692307693]"
      ]
     },
     "execution_count": 37,
     "metadata": {},
     "output_type": "execute_result"
    }
   ],
   "source": [
    "k2"
   ]
  },
  {
   "cell_type": "code",
   "execution_count": 38,
   "metadata": {},
   "outputs": [
    {
     "data": {
      "text/plain": [
       "11"
      ]
     },
     "execution_count": 38,
     "metadata": {},
     "output_type": "execute_result"
    }
   ],
   "source": [
    "len(k2)"
   ]
  },
  {
   "cell_type": "code",
   "execution_count": 57,
   "metadata": {},
   "outputs": [
    {
     "data": {
      "text/plain": [
       "{'card2': 4,\n",
       " 'card3': 4,\n",
       " 'card4': 4,\n",
       " 'card5': 4,\n",
       " 'card6': 4,\n",
       " 'card7': 4,\n",
       " 'card8': 4,\n",
       " 'card9': 4,\n",
       " 'card10': 16,\n",
       " 'card11': 4}"
      ]
     },
     "execution_count": 57,
     "metadata": {},
     "output_type": "execute_result"
    }
   ],
   "source": [
    "num_card = {}\n",
    "\n",
    "cards_left = 52\n",
    "\n",
    "for x in range(2,12):\n",
    "    if x == 10:\n",
    "        num_card[\"card{0}\".format(x)]=16\n",
    "    else:\n",
    "        num_card[\"card{0}\".format(x)]=4\n",
    "num_card#[\"card{0}\".format(9)]"
   ]
  },
  {
   "cell_type": "code",
   "execution_count": 58,
   "metadata": {},
   "outputs": [
    {
     "data": {
      "text/plain": [
       "[0.07692307692307693,\n",
       " 0.07692307692307693,\n",
       " 0.07692307692307693,\n",
       " 0.07692307692307693,\n",
       " 0.07692307692307693,\n",
       " 0.07692307692307693,\n",
       " 0.07692307692307693,\n",
       " 0.07692307692307693,\n",
       " 0.3076923076923077,\n",
       " 0.07692307692307693]"
      ]
     },
     "execution_count": 58,
     "metadata": {},
     "output_type": "execute_result"
    }
   ],
   "source": [
    "proba_cards = []\n",
    " \n",
    "for x in range(2,12):\n",
    "    proba_cards.append(num_card[\"card{0}\".format(x)]/cards_left)\n",
    "        \n",
    "proba_cards"
   ]
  },
  {
   "cell_type": "code",
   "execution_count": 50,
   "metadata": {},
   "outputs": [
    {
     "name": "stdout",
     "output_type": "stream",
     "text": [
      "[4, 6]\n"
     ]
    },
    {
     "data": {
      "text/plain": [
       "[2, 1]"
      ]
     },
     "execution_count": 50,
     "metadata": {},
     "output_type": "execute_result"
    }
   ],
   "source": [
    "k = []\n",
    "k.append(4)\n",
    "k.append(6)\n",
    "print(k)\n",
    "k =[]\n",
    "k.append(2)\n",
    "k.append(1)\n",
    "k"
   ]
  },
  {
   "cell_type": "code",
   "execution_count": 46,
   "metadata": {},
   "outputs": [],
   "source": []
  },
  {
   "cell_type": "code",
   "execution_count": null,
   "metadata": {},
   "outputs": [],
   "source": []
  }
 ],
 "metadata": {
  "kernelspec": {
   "display_name": "Python 3",
   "language": "python",
   "name": "python3"
  },
  "language_info": {
   "codemirror_mode": {
    "name": "ipython",
    "version": 3
   },
   "file_extension": ".py",
   "mimetype": "text/x-python",
   "name": "python",
   "nbconvert_exporter": "python",
   "pygments_lexer": "ipython3",
   "version": "3.7.1"
  }
 },
 "nbformat": 4,
 "nbformat_minor": 2
}
